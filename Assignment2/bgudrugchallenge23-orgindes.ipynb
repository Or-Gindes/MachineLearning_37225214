{
 "cells": [
  {
   "cell_type": "markdown",
   "metadata": {},
   "source": [
    "# BGUDrugChallange2023\n",
    "### Author: Or Gindes"
   ]
  },
  {
   "cell_type": "code",
   "execution_count": 1,
   "metadata": {
    "_cell_guid": "b1076dfc-b9ad-4769-8c92-a6c4dae69d19",
    "_uuid": "8f2839f25d086af736a60e9eeb907d3b93b6e0e5",
    "execution": {
     "iopub.execute_input": "2023-05-08T13:17:51.982379Z",
     "iopub.status.busy": "2023-05-08T13:17:51.981925Z",
     "iopub.status.idle": "2023-05-08T13:17:51.990800Z",
     "shell.execute_reply": "2023-05-08T13:17:51.989842Z",
     "shell.execute_reply.started": "2023-05-08T13:17:51.982347Z"
    }
   },
   "outputs": [],
   "source": [
    "import os\n",
    "import pandas as pd\n",
    "import numpy as np\n",
    "import matplotlib.pyplot as plt\n",
    "\n",
    "BASE_PATH = \"\"#'/kaggle/input'\n",
    "PROJECT_NAME = 'bgudrugchallenge2023'\n",
    "PROJECT_PATH = os.path.join(BASE_PATH, PROJECT_NAME)"
   ]
  },
  {
   "cell_type": "code",
   "execution_count": 2,
   "metadata": {
    "execution": {
     "iopub.execute_input": "2023-05-08T11:47:15.151498Z",
     "iopub.status.busy": "2023-05-08T11:47:15.151145Z",
     "iopub.status.idle": "2023-05-08T11:47:15.896415Z",
     "shell.execute_reply": "2023-05-08T11:47:15.895433Z",
     "shell.execute_reply.started": "2023-05-08T11:47:15.151471Z"
    }
   },
   "outputs": [
    {
     "name": "stdout",
     "output_type": "stream",
     "text": [
      "shape of training data: (332, 4721)\n"
     ]
    },
    {
     "data": {
      "text/html": [
       "<div>\n",
       "<style scoped>\n",
       "    .dataframe tbody tr th:only-of-type {\n",
       "        vertical-align: middle;\n",
       "    }\n",
       "\n",
       "    .dataframe tbody tr th {\n",
       "        vertical-align: top;\n",
       "    }\n",
       "\n",
       "    .dataframe thead th {\n",
       "        text-align: right;\n",
       "    }\n",
       "</style>\n",
       "<table border=\"1\" class=\"dataframe\">\n",
       "  <thead>\n",
       "    <tr style=\"text-align: right;\">\n",
       "      <th></th>\n",
       "      <th>F_0</th>\n",
       "      <th>F_1</th>\n",
       "      <th>F_2</th>\n",
       "      <th>F_3</th>\n",
       "      <th>F_4</th>\n",
       "      <th>F_5</th>\n",
       "      <th>F_6</th>\n",
       "      <th>F_7</th>\n",
       "      <th>F_8</th>\n",
       "      <th>F_9</th>\n",
       "      <th>...</th>\n",
       "      <th>F_4711</th>\n",
       "      <th>F_4712</th>\n",
       "      <th>F_4713</th>\n",
       "      <th>F_4714</th>\n",
       "      <th>F_4715</th>\n",
       "      <th>F_4716</th>\n",
       "      <th>F_4717</th>\n",
       "      <th>F_4718</th>\n",
       "      <th>F_4719</th>\n",
       "      <th>Y</th>\n",
       "    </tr>\n",
       "  </thead>\n",
       "  <tbody>\n",
       "    <tr>\n",
       "      <th>0</th>\n",
       "      <td>2.948348</td>\n",
       "      <td>-3.501110</td>\n",
       "      <td>-1.295460</td>\n",
       "      <td>-0.473063</td>\n",
       "      <td>3.442854</td>\n",
       "      <td>-0.059270</td>\n",
       "      <td>-7.240580</td>\n",
       "      <td>2.489219</td>\n",
       "      <td>0.238883</td>\n",
       "      <td>0.909147</td>\n",
       "      <td>...</td>\n",
       "      <td>0.094626</td>\n",
       "      <td>0.085609</td>\n",
       "      <td>0.032840</td>\n",
       "      <td>-0.174428</td>\n",
       "      <td>-0.124452</td>\n",
       "      <td>0.141204</td>\n",
       "      <td>0.114121</td>\n",
       "      <td>0.009670</td>\n",
       "      <td>0.052854</td>\n",
       "      <td>0.0</td>\n",
       "    </tr>\n",
       "    <tr>\n",
       "      <th>1</th>\n",
       "      <td>0.132907</td>\n",
       "      <td>-0.461278</td>\n",
       "      <td>-2.182900</td>\n",
       "      <td>0.347840</td>\n",
       "      <td>-0.562704</td>\n",
       "      <td>0.459928</td>\n",
       "      <td>-8.376611</td>\n",
       "      <td>0.595829</td>\n",
       "      <td>8.073771</td>\n",
       "      <td>4.659968</td>\n",
       "      <td>...</td>\n",
       "      <td>0.129932</td>\n",
       "      <td>-0.092820</td>\n",
       "      <td>-0.037052</td>\n",
       "      <td>0.065809</td>\n",
       "      <td>-0.075197</td>\n",
       "      <td>-0.042183</td>\n",
       "      <td>0.045762</td>\n",
       "      <td>0.118451</td>\n",
       "      <td>-0.186966</td>\n",
       "      <td>0.0</td>\n",
       "    </tr>\n",
       "    <tr>\n",
       "      <th>2</th>\n",
       "      <td>0.456545</td>\n",
       "      <td>0.275523</td>\n",
       "      <td>-1.782677</td>\n",
       "      <td>1.315241</td>\n",
       "      <td>-0.304189</td>\n",
       "      <td>0.188261</td>\n",
       "      <td>-5.266070</td>\n",
       "      <td>0.162359</td>\n",
       "      <td>2.533442</td>\n",
       "      <td>2.168226</td>\n",
       "      <td>...</td>\n",
       "      <td>0.021137</td>\n",
       "      <td>0.034982</td>\n",
       "      <td>0.067085</td>\n",
       "      <td>-0.056314</td>\n",
       "      <td>-0.097726</td>\n",
       "      <td>-0.008313</td>\n",
       "      <td>0.084552</td>\n",
       "      <td>-0.027083</td>\n",
       "      <td>-0.020890</td>\n",
       "      <td>0.0</td>\n",
       "    </tr>\n",
       "    <tr>\n",
       "      <th>3</th>\n",
       "      <td>-0.491109</td>\n",
       "      <td>0.530537</td>\n",
       "      <td>-1.700410</td>\n",
       "      <td>2.524352</td>\n",
       "      <td>2.310583</td>\n",
       "      <td>0.252446</td>\n",
       "      <td>-6.055076</td>\n",
       "      <td>-0.587962</td>\n",
       "      <td>8.597134</td>\n",
       "      <td>1.777160</td>\n",
       "      <td>...</td>\n",
       "      <td>0.170188</td>\n",
       "      <td>-0.053689</td>\n",
       "      <td>-0.020882</td>\n",
       "      <td>-0.018316</td>\n",
       "      <td>-0.151553</td>\n",
       "      <td>-0.021109</td>\n",
       "      <td>0.277083</td>\n",
       "      <td>-0.017892</td>\n",
       "      <td>-0.196005</td>\n",
       "      <td>0.0</td>\n",
       "    </tr>\n",
       "    <tr>\n",
       "      <th>4</th>\n",
       "      <td>0.429949</td>\n",
       "      <td>0.457843</td>\n",
       "      <td>-0.956712</td>\n",
       "      <td>2.623879</td>\n",
       "      <td>1.084800</td>\n",
       "      <td>1.392040</td>\n",
       "      <td>-5.593976</td>\n",
       "      <td>0.777225</td>\n",
       "      <td>2.017562</td>\n",
       "      <td>-0.161853</td>\n",
       "      <td>...</td>\n",
       "      <td>0.038796</td>\n",
       "      <td>-0.094921</td>\n",
       "      <td>-0.041265</td>\n",
       "      <td>0.044448</td>\n",
       "      <td>0.023078</td>\n",
       "      <td>0.072908</td>\n",
       "      <td>0.030298</td>\n",
       "      <td>-0.045262</td>\n",
       "      <td>-0.083091</td>\n",
       "      <td>0.0</td>\n",
       "    </tr>\n",
       "  </tbody>\n",
       "</table>\n",
       "<p>5 rows × 4721 columns</p>\n",
       "</div>"
      ],
      "text/plain": [
       "        F_0       F_1       F_2       F_3       F_4       F_5       F_6  \\\n",
       "0  2.948348 -3.501110 -1.295460 -0.473063  3.442854 -0.059270 -7.240580   \n",
       "1  0.132907 -0.461278 -2.182900  0.347840 -0.562704  0.459928 -8.376611   \n",
       "2  0.456545  0.275523 -1.782677  1.315241 -0.304189  0.188261 -5.266070   \n",
       "3 -0.491109  0.530537 -1.700410  2.524352  2.310583  0.252446 -6.055076   \n",
       "4  0.429949  0.457843 -0.956712  2.623879  1.084800  1.392040 -5.593976   \n",
       "\n",
       "        F_7       F_8       F_9  ...    F_4711    F_4712    F_4713    F_4714  \\\n",
       "0  2.489219  0.238883  0.909147  ...  0.094626  0.085609  0.032840 -0.174428   \n",
       "1  0.595829  8.073771  4.659968  ...  0.129932 -0.092820 -0.037052  0.065809   \n",
       "2  0.162359  2.533442  2.168226  ...  0.021137  0.034982  0.067085 -0.056314   \n",
       "3 -0.587962  8.597134  1.777160  ...  0.170188 -0.053689 -0.020882 -0.018316   \n",
       "4  0.777225  2.017562 -0.161853  ...  0.038796 -0.094921 -0.041265  0.044448   \n",
       "\n",
       "     F_4715    F_4716    F_4717    F_4718    F_4719    Y  \n",
       "0 -0.124452  0.141204  0.114121  0.009670  0.052854  0.0  \n",
       "1 -0.075197 -0.042183  0.045762  0.118451 -0.186966  0.0  \n",
       "2 -0.097726 -0.008313  0.084552 -0.027083 -0.020890  0.0  \n",
       "3 -0.151553 -0.021109  0.277083 -0.017892 -0.196005  0.0  \n",
       "4  0.023078  0.072908  0.030298 -0.045262 -0.083091  0.0  \n",
       "\n",
       "[5 rows x 4721 columns]"
      ]
     },
     "execution_count": 2,
     "metadata": {},
     "output_type": "execute_result"
    }
   ],
   "source": [
    "df_train = pd.read_csv(f'{os.path.join(PROJECT_PATH, \"train.csv\")}')\n",
    "print(f'shape of training data: {df_train.shape}')\n",
    "df_train.head()"
   ]
  },
  {
   "cell_type": "code",
   "execution_count": 3,
   "metadata": {
    "execution": {
     "iopub.execute_input": "2023-05-08T11:47:15.897981Z",
     "iopub.status.busy": "2023-05-08T11:47:15.897711Z",
     "iopub.status.idle": "2023-05-08T11:47:16.266373Z",
     "shell.execute_reply": "2023-05-08T11:47:16.265316Z",
     "shell.execute_reply.started": "2023-05-08T11:47:15.897959Z"
    }
   },
   "outputs": [
    {
     "name": "stdout",
     "output_type": "stream",
     "text": [
      "shape of test data: (143, 4720)\n"
     ]
    },
    {
     "data": {
      "text/html": [
       "<div>\n",
       "<style scoped>\n",
       "    .dataframe tbody tr th:only-of-type {\n",
       "        vertical-align: middle;\n",
       "    }\n",
       "\n",
       "    .dataframe tbody tr th {\n",
       "        vertical-align: top;\n",
       "    }\n",
       "\n",
       "    .dataframe thead th {\n",
       "        text-align: right;\n",
       "    }\n",
       "</style>\n",
       "<table border=\"1\" class=\"dataframe\">\n",
       "  <thead>\n",
       "    <tr style=\"text-align: right;\">\n",
       "      <th></th>\n",
       "      <th>F_0</th>\n",
       "      <th>F_1</th>\n",
       "      <th>F_2</th>\n",
       "      <th>F_3</th>\n",
       "      <th>F_4</th>\n",
       "      <th>F_5</th>\n",
       "      <th>F_6</th>\n",
       "      <th>F_7</th>\n",
       "      <th>F_8</th>\n",
       "      <th>F_9</th>\n",
       "      <th>...</th>\n",
       "      <th>F_4710</th>\n",
       "      <th>F_4711</th>\n",
       "      <th>F_4712</th>\n",
       "      <th>F_4713</th>\n",
       "      <th>F_4714</th>\n",
       "      <th>F_4715</th>\n",
       "      <th>F_4716</th>\n",
       "      <th>F_4717</th>\n",
       "      <th>F_4718</th>\n",
       "      <th>F_4719</th>\n",
       "    </tr>\n",
       "    <tr>\n",
       "      <th>Id</th>\n",
       "      <th></th>\n",
       "      <th></th>\n",
       "      <th></th>\n",
       "      <th></th>\n",
       "      <th></th>\n",
       "      <th></th>\n",
       "      <th></th>\n",
       "      <th></th>\n",
       "      <th></th>\n",
       "      <th></th>\n",
       "      <th></th>\n",
       "      <th></th>\n",
       "      <th></th>\n",
       "      <th></th>\n",
       "      <th></th>\n",
       "      <th></th>\n",
       "      <th></th>\n",
       "      <th></th>\n",
       "      <th></th>\n",
       "      <th></th>\n",
       "      <th></th>\n",
       "    </tr>\n",
       "  </thead>\n",
       "  <tbody>\n",
       "    <tr>\n",
       "      <th>0</th>\n",
       "      <td>-1.428296</td>\n",
       "      <td>0.273314</td>\n",
       "      <td>-0.835889</td>\n",
       "      <td>2.906398</td>\n",
       "      <td>1.221514</td>\n",
       "      <td>-0.212035</td>\n",
       "      <td>-4.865508</td>\n",
       "      <td>0.523301</td>\n",
       "      <td>5.202100</td>\n",
       "      <td>-0.407988</td>\n",
       "      <td>...</td>\n",
       "      <td>0.100275</td>\n",
       "      <td>0.228285</td>\n",
       "      <td>0.019648</td>\n",
       "      <td>0.035425</td>\n",
       "      <td>-0.022730</td>\n",
       "      <td>-0.257698</td>\n",
       "      <td>-0.028127</td>\n",
       "      <td>0.200773</td>\n",
       "      <td>0.088267</td>\n",
       "      <td>-0.202241</td>\n",
       "    </tr>\n",
       "    <tr>\n",
       "      <th>1</th>\n",
       "      <td>0.058912</td>\n",
       "      <td>-3.064647</td>\n",
       "      <td>-2.488319</td>\n",
       "      <td>2.099941</td>\n",
       "      <td>-1.163898</td>\n",
       "      <td>-4.883776</td>\n",
       "      <td>-8.703987</td>\n",
       "      <td>3.120910</td>\n",
       "      <td>0.795341</td>\n",
       "      <td>0.483574</td>\n",
       "      <td>...</td>\n",
       "      <td>0.091742</td>\n",
       "      <td>0.066727</td>\n",
       "      <td>0.132647</td>\n",
       "      <td>0.170662</td>\n",
       "      <td>-0.148609</td>\n",
       "      <td>0.029267</td>\n",
       "      <td>0.069381</td>\n",
       "      <td>0.055966</td>\n",
       "      <td>-0.093956</td>\n",
       "      <td>0.072534</td>\n",
       "    </tr>\n",
       "    <tr>\n",
       "      <th>2</th>\n",
       "      <td>5.008622</td>\n",
       "      <td>-10.744597</td>\n",
       "      <td>-5.272797</td>\n",
       "      <td>17.425785</td>\n",
       "      <td>-3.502573</td>\n",
       "      <td>-0.205115</td>\n",
       "      <td>-20.726185</td>\n",
       "      <td>-3.344971</td>\n",
       "      <td>12.480215</td>\n",
       "      <td>3.469767</td>\n",
       "      <td>...</td>\n",
       "      <td>-0.116275</td>\n",
       "      <td>0.024817</td>\n",
       "      <td>-0.081762</td>\n",
       "      <td>-0.002624</td>\n",
       "      <td>0.133897</td>\n",
       "      <td>0.075928</td>\n",
       "      <td>0.122732</td>\n",
       "      <td>-0.089868</td>\n",
       "      <td>0.057303</td>\n",
       "      <td>-0.129542</td>\n",
       "    </tr>\n",
       "    <tr>\n",
       "      <th>3</th>\n",
       "      <td>0.567597</td>\n",
       "      <td>-3.835310</td>\n",
       "      <td>-3.379487</td>\n",
       "      <td>-0.245614</td>\n",
       "      <td>0.327559</td>\n",
       "      <td>-8.512493</td>\n",
       "      <td>-10.009103</td>\n",
       "      <td>7.537097</td>\n",
       "      <td>0.604305</td>\n",
       "      <td>-0.941639</td>\n",
       "      <td>...</td>\n",
       "      <td>0.082882</td>\n",
       "      <td>0.047993</td>\n",
       "      <td>0.008562</td>\n",
       "      <td>0.032000</td>\n",
       "      <td>-0.099906</td>\n",
       "      <td>0.102638</td>\n",
       "      <td>0.059335</td>\n",
       "      <td>0.006395</td>\n",
       "      <td>-0.073386</td>\n",
       "      <td>0.150540</td>\n",
       "    </tr>\n",
       "    <tr>\n",
       "      <th>4</th>\n",
       "      <td>0.196856</td>\n",
       "      <td>-2.251838</td>\n",
       "      <td>-1.782099</td>\n",
       "      <td>5.564932</td>\n",
       "      <td>1.733595</td>\n",
       "      <td>0.940787</td>\n",
       "      <td>-6.924644</td>\n",
       "      <td>1.800831</td>\n",
       "      <td>7.246773</td>\n",
       "      <td>0.430933</td>\n",
       "      <td>...</td>\n",
       "      <td>0.117130</td>\n",
       "      <td>0.082477</td>\n",
       "      <td>-0.002865</td>\n",
       "      <td>0.088535</td>\n",
       "      <td>-0.152767</td>\n",
       "      <td>-0.083517</td>\n",
       "      <td>0.059677</td>\n",
       "      <td>0.092971</td>\n",
       "      <td>0.032295</td>\n",
       "      <td>-0.036221</td>\n",
       "    </tr>\n",
       "  </tbody>\n",
       "</table>\n",
       "<p>5 rows × 4720 columns</p>\n",
       "</div>"
      ],
      "text/plain": [
       "         F_0        F_1       F_2        F_3       F_4       F_5        F_6  \\\n",
       "Id                                                                            \n",
       "0  -1.428296   0.273314 -0.835889   2.906398  1.221514 -0.212035  -4.865508   \n",
       "1   0.058912  -3.064647 -2.488319   2.099941 -1.163898 -4.883776  -8.703987   \n",
       "2   5.008622 -10.744597 -5.272797  17.425785 -3.502573 -0.205115 -20.726185   \n",
       "3   0.567597  -3.835310 -3.379487  -0.245614  0.327559 -8.512493 -10.009103   \n",
       "4   0.196856  -2.251838 -1.782099   5.564932  1.733595  0.940787  -6.924644   \n",
       "\n",
       "         F_7        F_8       F_9  ...    F_4710    F_4711    F_4712  \\\n",
       "Id                                 ...                                 \n",
       "0   0.523301   5.202100 -0.407988  ...  0.100275  0.228285  0.019648   \n",
       "1   3.120910   0.795341  0.483574  ...  0.091742  0.066727  0.132647   \n",
       "2  -3.344971  12.480215  3.469767  ... -0.116275  0.024817 -0.081762   \n",
       "3   7.537097   0.604305 -0.941639  ...  0.082882  0.047993  0.008562   \n",
       "4   1.800831   7.246773  0.430933  ...  0.117130  0.082477 -0.002865   \n",
       "\n",
       "      F_4713    F_4714    F_4715    F_4716    F_4717    F_4718    F_4719  \n",
       "Id                                                                        \n",
       "0   0.035425 -0.022730 -0.257698 -0.028127  0.200773  0.088267 -0.202241  \n",
       "1   0.170662 -0.148609  0.029267  0.069381  0.055966 -0.093956  0.072534  \n",
       "2  -0.002624  0.133897  0.075928  0.122732 -0.089868  0.057303 -0.129542  \n",
       "3   0.032000 -0.099906  0.102638  0.059335  0.006395 -0.073386  0.150540  \n",
       "4   0.088535 -0.152767 -0.083517  0.059677  0.092971  0.032295 -0.036221  \n",
       "\n",
       "[5 rows x 4720 columns]"
      ]
     },
     "execution_count": 3,
     "metadata": {},
     "output_type": "execute_result"
    }
   ],
   "source": [
    "X_test = pd.read_csv(f'{os.path.join(PROJECT_PATH, \"validation_and_test.csv\")}', index_col='Id')\n",
    "sample_y = pd.read_csv(f'{os.path.join(PROJECT_PATH, \"sample submission.csv\")}', index_col=\"Id\")\n",
    "print(f'shape of test data: {X_test.shape}')\n",
    "X_test.head()"
   ]
  },
  {
   "cell_type": "code",
   "execution_count": 4,
   "metadata": {
    "execution": {
     "iopub.execute_input": "2023-05-08T11:47:16.268781Z",
     "iopub.status.busy": "2023-05-08T11:47:16.268492Z",
     "iopub.status.idle": "2023-05-08T11:47:16.280850Z",
     "shell.execute_reply": "2023-05-08T11:47:16.279523Z",
     "shell.execute_reply.started": "2023-05-08T11:47:16.268757Z"
    }
   },
   "outputs": [],
   "source": [
    "X_train = df_train.drop('Y', axis=1)\n",
    "y_train = df_train['Y']"
   ]
  },
  {
   "cell_type": "markdown",
   "metadata": {},
   "source": [
    "# Stage A: AutoML"
   ]
  },
  {
   "cell_type": "markdown",
   "metadata": {},
   "source": [
    "This stage will comprise of the following steps:\n",
    "1. Naive first run with two types of AutoML libraries (AutoSklearn & H2O AutoML)\n",
    "2. Preprocessing (fill NA, scale data, feature selection)\n",
    "3. Hyperparameter tuning"
   ]
  },
  {
   "cell_type": "markdown",
   "metadata": {},
   "source": [
    "### Stage A.1: Naive AutoML (auto-preprocessing)"
   ]
  },
  {
   "cell_type": "markdown",
   "metadata": {},
   "source": [
    "AutoSklearn"
   ]
  },
  {
   "cell_type": "code",
   "execution_count": 15,
   "metadata": {
    "_kg_hide-output": true,
    "execution": {
     "iopub.execute_input": "2023-05-08T11:47:16.282443Z",
     "iopub.status.busy": "2023-05-08T11:47:16.282121Z",
     "iopub.status.idle": "2023-05-08T11:50:16.476010Z",
     "shell.execute_reply": "2023-05-08T11:50:16.474503Z",
     "shell.execute_reply.started": "2023-05-08T11:47:16.282418Z"
    },
    "jupyter": {
     "outputs_hidden": true
    }
   },
   "outputs": [],
   "source": [
    "# # Commands to install AutoSklearn in notebook\n",
    "# !apt-get remove swig\n",
    "# !apt-get install swig3.0 build-essential -y\n",
    "# !ln -s /usr/bin/swig3.0 /usr/bin/swig\n",
    "\n",
    "# !apt-get install build-essential\n",
    "# !curl https://raw.githubusercontent.com/automl/auto-sklearn/master/requirements.txt | xargs -n 1 -L 1 pip install\n",
    "# !pip install -U scikit-learn==0.24.0\n",
    "# !pip install auto-sklearn"
   ]
  },
  {
   "cell_type": "code",
   "execution_count": 7,
   "metadata": {
    "execution": {
     "iopub.execute_input": "2023-05-08T11:50:53.729806Z",
     "iopub.status.busy": "2023-05-08T11:50:53.729423Z",
     "iopub.status.idle": "2023-05-08T12:51:06.570445Z",
     "shell.execute_reply": "2023-05-08T12:51:06.569464Z",
     "shell.execute_reply.started": "2023-05-08T11:50:53.729775Z"
    }
   },
   "outputs": [],
   "source": [
    "from autosklearn.metrics import roc_auc\n",
    "from autosklearn.classification import AutoSklearnClassifier\n",
    "from sklearn.metrics import classification_report, accuracy_score, roc_auc_score, roc_curve, auc\n",
    "\n",
    "from smac.optimizer.smbo import SMBO\n",
    "from smac.runhistory.runhistory import RunInfo, RunValue\n",
    "\n",
    "# Use an early stop callback when the improvement score is getting low\n",
    "def callback(\n",
    "    smbo: SMBO,\n",
    "    run_info: RunInfo,\n",
    "    result: RunValue,\n",
    "    time_left: float\n",
    "):\n",
    "    if result.cost <= 0.02:\n",
    "        return False\n",
    "\n",
    "# Splitting the data is not necessary because autoML performs cross-validation\n",
    "automl_1 = AutoSklearnClassifier(seed=42, get_trials_callback=callback, metric=roc_auc)\n",
    "automl_1.fit(X_train.to_numpy(np.float64), y_train.to_numpy())\n",
    "\n",
    "y_train_pred = automl_1.predict(X_train)"
   ]
  },
  {
   "cell_type": "code",
   "execution_count": 8,
   "metadata": {
    "execution": {
     "iopub.execute_input": "2023-05-08T12:59:36.385294Z",
     "iopub.status.busy": "2023-05-08T12:59:36.384118Z",
     "iopub.status.idle": "2023-05-08T12:59:42.134258Z",
     "shell.execute_reply": "2023-05-08T12:59:42.133112Z",
     "shell.execute_reply.started": "2023-05-08T12:59:36.385229Z"
    }
   },
   "outputs": [
    {
     "name": "stdout",
     "output_type": "stream",
     "text": [
      "Training Accuracy score: 0.94\n",
      "Train set AUC score: 0.971\n"
     ]
    }
   ],
   "source": [
    "print(\"Training Accuracy score:\", round(accuracy_score(y_train, y_train_pred), 3))\n",
    "print(\"Train set AUC score:\", round(roc_auc_score(y_train, automl_1.predict_proba(X_train)[:,1]), 3))"
   ]
  },
  {
   "cell_type": "code",
   "execution_count": 10,
   "metadata": {
    "execution": {
     "iopub.execute_input": "2023-05-08T13:15:00.989840Z",
     "iopub.status.busy": "2023-05-08T13:15:00.989462Z",
     "iopub.status.idle": "2023-05-08T13:15:05.588454Z",
     "shell.execute_reply": "2023-05-08T13:15:05.587594Z",
     "shell.execute_reply.started": "2023-05-08T13:15:00.989813Z"
    }
   },
   "outputs": [],
   "source": [
    "def prep_submission(model, X_test, sub_name='test_submission'):\n",
    "    submission = pd.DataFrame(model.predict_proba(X_test)[:,1], columns=['Predicted']).reset_index(names=\"Id\")\n",
    "    submission.to_csv(f\"{sub_name}.csv\", index=False)\n",
    "\n",
    "prep_submission(automl_1, X_test, \"Naive_AutoSklearn_submission\")"
   ]
  },
  {
   "cell_type": "markdown",
   "metadata": {},
   "source": [
    "Results from ladder board = 0.89065\n",
    "\n",
    "This model is slightly overfitted (Test AUC is lower than Train AUC). This is likely as a result of the low number of observations left in the training set and the numerous features as well as the default cross-validation method which is kfold which can be an issue if k is too large and each fold will have a small number of observations and be overfitted"
   ]
  },
  {
   "cell_type": "code",
   "execution_count": 13,
   "metadata": {},
   "outputs": [
    {
     "name": "stdout",
     "output_type": "stream",
     "text": [
      "auto-sklearn results:\n",
      "  Dataset name: ae8a8442-eda5-11ed-b2fa-d0c637f7133b\n",
      "  Metric: roc_auc\n",
      "  Best validation score: 0.854353\n",
      "  Number of target algorithm runs: 272\n",
      "  Number of successful target algorithm runs: 215\n",
      "  Number of crashed target algorithm runs: 48\n",
      "  Number of target algorithms that exceeded the time limit: 6\n",
      "  Number of target algorithms that exceeded the memory limit: 3\n",
      "\n"
     ]
    }
   ],
   "source": [
    "print(automl_1.sprint_statistics())"
   ]
  },
  {
   "cell_type": "markdown",
   "metadata": {},
   "source": [
    "According to the validation score it seems the autoML cross-validation has a good grasp of the actual performance of it's trained models as its much closer to the ladder board score than the training score"
   ]
  },
  {
   "cell_type": "code",
   "execution_count": 14,
   "metadata": {},
   "outputs": [
    {
     "data": {
      "text/html": [
       "<div>\n",
       "<style scoped>\n",
       "    .dataframe tbody tr th:only-of-type {\n",
       "        vertical-align: middle;\n",
       "    }\n",
       "\n",
       "    .dataframe tbody tr th {\n",
       "        vertical-align: top;\n",
       "    }\n",
       "\n",
       "    .dataframe thead th {\n",
       "        text-align: right;\n",
       "    }\n",
       "</style>\n",
       "<table border=\"1\" class=\"dataframe\">\n",
       "  <thead>\n",
       "    <tr style=\"text-align: right;\">\n",
       "      <th></th>\n",
       "      <th>rank</th>\n",
       "      <th>ensemble_weight</th>\n",
       "      <th>type</th>\n",
       "      <th>cost</th>\n",
       "      <th>duration</th>\n",
       "    </tr>\n",
       "    <tr>\n",
       "      <th>model_id</th>\n",
       "      <th></th>\n",
       "      <th></th>\n",
       "      <th></th>\n",
       "      <th></th>\n",
       "      <th></th>\n",
       "    </tr>\n",
       "  </thead>\n",
       "  <tbody>\n",
       "    <tr>\n",
       "      <th>268</th>\n",
       "      <td>1</td>\n",
       "      <td>0.02</td>\n",
       "      <td>random_forest</td>\n",
       "      <td>0.145647</td>\n",
       "      <td>3.802059</td>\n",
       "    </tr>\n",
       "    <tr>\n",
       "      <th>249</th>\n",
       "      <td>2</td>\n",
       "      <td>0.14</td>\n",
       "      <td>random_forest</td>\n",
       "      <td>0.147633</td>\n",
       "      <td>1.497564</td>\n",
       "    </tr>\n",
       "    <tr>\n",
       "      <th>226</th>\n",
       "      <td>3</td>\n",
       "      <td>0.04</td>\n",
       "      <td>random_forest</td>\n",
       "      <td>0.149619</td>\n",
       "      <td>2.267734</td>\n",
       "    </tr>\n",
       "    <tr>\n",
       "      <th>204</th>\n",
       "      <td>4</td>\n",
       "      <td>0.06</td>\n",
       "      <td>random_forest</td>\n",
       "      <td>0.150281</td>\n",
       "      <td>4.797642</td>\n",
       "    </tr>\n",
       "    <tr>\n",
       "      <th>257</th>\n",
       "      <td>5</td>\n",
       "      <td>0.02</td>\n",
       "      <td>random_forest</td>\n",
       "      <td>0.151936</td>\n",
       "      <td>1.595163</td>\n",
       "    </tr>\n",
       "    <tr>\n",
       "      <th>177</th>\n",
       "      <td>6</td>\n",
       "      <td>0.02</td>\n",
       "      <td>random_forest</td>\n",
       "      <td>0.152267</td>\n",
       "      <td>4.005137</td>\n",
       "    </tr>\n",
       "    <tr>\n",
       "      <th>238</th>\n",
       "      <td>7</td>\n",
       "      <td>0.02</td>\n",
       "      <td>random_forest</td>\n",
       "      <td>0.158226</td>\n",
       "      <td>9.352654</td>\n",
       "    </tr>\n",
       "    <tr>\n",
       "      <th>141</th>\n",
       "      <td>8</td>\n",
       "      <td>0.02</td>\n",
       "      <td>random_forest</td>\n",
       "      <td>0.158888</td>\n",
       "      <td>3.049145</td>\n",
       "    </tr>\n",
       "    <tr>\n",
       "      <th>175</th>\n",
       "      <td>9</td>\n",
       "      <td>0.04</td>\n",
       "      <td>random_forest</td>\n",
       "      <td>0.158888</td>\n",
       "      <td>3.957441</td>\n",
       "    </tr>\n",
       "    <tr>\n",
       "      <th>245</th>\n",
       "      <td>10</td>\n",
       "      <td>0.02</td>\n",
       "      <td>random_forest</td>\n",
       "      <td>0.159219</td>\n",
       "      <td>2.057112</td>\n",
       "    </tr>\n",
       "    <tr>\n",
       "      <th>231</th>\n",
       "      <td>12</td>\n",
       "      <td>0.02</td>\n",
       "      <td>random_forest</td>\n",
       "      <td>0.159881</td>\n",
       "      <td>2.533903</td>\n",
       "    </tr>\n",
       "    <tr>\n",
       "      <th>271</th>\n",
       "      <td>11</td>\n",
       "      <td>0.02</td>\n",
       "      <td>random_forest</td>\n",
       "      <td>0.159881</td>\n",
       "      <td>1.602257</td>\n",
       "    </tr>\n",
       "    <tr>\n",
       "      <th>180</th>\n",
       "      <td>13</td>\n",
       "      <td>0.04</td>\n",
       "      <td>random_forest</td>\n",
       "      <td>0.160874</td>\n",
       "      <td>4.048606</td>\n",
       "    </tr>\n",
       "    <tr>\n",
       "      <th>208</th>\n",
       "      <td>14</td>\n",
       "      <td>0.08</td>\n",
       "      <td>lda</td>\n",
       "      <td>0.166005</td>\n",
       "      <td>4.258010</td>\n",
       "    </tr>\n",
       "    <tr>\n",
       "      <th>184</th>\n",
       "      <td>15</td>\n",
       "      <td>0.14</td>\n",
       "      <td>random_forest</td>\n",
       "      <td>0.174115</td>\n",
       "      <td>8.458965</td>\n",
       "    </tr>\n",
       "    <tr>\n",
       "      <th>11</th>\n",
       "      <td>16</td>\n",
       "      <td>0.22</td>\n",
       "      <td>mlp</td>\n",
       "      <td>0.175439</td>\n",
       "      <td>21.398702</td>\n",
       "    </tr>\n",
       "    <tr>\n",
       "      <th>35</th>\n",
       "      <td>17</td>\n",
       "      <td>0.08</td>\n",
       "      <td>adaboost</td>\n",
       "      <td>0.176101</td>\n",
       "      <td>34.783011</td>\n",
       "    </tr>\n",
       "  </tbody>\n",
       "</table>\n",
       "</div>"
      ],
      "text/plain": [
       "          rank  ensemble_weight           type      cost   duration\n",
       "model_id                                                           \n",
       "268          1             0.02  random_forest  0.145647   3.802059\n",
       "249          2             0.14  random_forest  0.147633   1.497564\n",
       "226          3             0.04  random_forest  0.149619   2.267734\n",
       "204          4             0.06  random_forest  0.150281   4.797642\n",
       "257          5             0.02  random_forest  0.151936   1.595163\n",
       "177          6             0.02  random_forest  0.152267   4.005137\n",
       "238          7             0.02  random_forest  0.158226   9.352654\n",
       "141          8             0.02  random_forest  0.158888   3.049145\n",
       "175          9             0.04  random_forest  0.158888   3.957441\n",
       "245         10             0.02  random_forest  0.159219   2.057112\n",
       "231         12             0.02  random_forest  0.159881   2.533903\n",
       "271         11             0.02  random_forest  0.159881   1.602257\n",
       "180         13             0.04  random_forest  0.160874   4.048606\n",
       "208         14             0.08            lda  0.166005   4.258010\n",
       "184         15             0.14  random_forest  0.174115   8.458965\n",
       "11          16             0.22            mlp  0.175439  21.398702\n",
       "35          17             0.08       adaboost  0.176101  34.783011"
      ]
     },
     "execution_count": 14,
     "metadata": {},
     "output_type": "execute_result"
    }
   ],
   "source": [
    "automl_1.leaderboard()"
   ]
  },
  {
   "cell_type": "markdown",
   "metadata": {},
   "source": [
    "Another observation is that the best performing models are random_forest models"
   ]
  },
  {
   "cell_type": "markdown",
   "metadata": {},
   "source": [
    "H2OAutoML\n"
   ]
  },
  {
   "cell_type": "code",
   "execution_count": 26,
   "metadata": {
    "scrolled": true
   },
   "outputs": [
    {
     "name": "stdout",
     "output_type": "stream",
     "text": [
      "Checking whether there is an H2O instance running at http://localhost:54321..... not found.\n",
      "Attempting to start a local H2O server...\n",
      "  Java Version: openjdk version \"11.0.18\" 2023-01-17; OpenJDK Runtime Environment (build 11.0.18+10-post-Ubuntu-0ubuntu122.04); OpenJDK 64-Bit Server VM (build 11.0.18+10-post-Ubuntu-0ubuntu122.04, mixed mode)\n",
      "  Starting server from /home/orgindes/anaconda3/envs/MachineLearning_37225214/lib/python3.8/site-packages/h2o/backend/bin/h2o.jar\n",
      "  Ice root: /tmp/tmp183rzuq0\n",
      "  JVM stdout: /tmp/tmp183rzuq0/h2o_orgindes_started_from_python.out\n",
      "  JVM stderr: /tmp/tmp183rzuq0/h2o_orgindes_started_from_python.err\n",
      "  Server is running at http://127.0.0.1:54323\n",
      "Connecting to H2O server at http://127.0.0.1:54323 ... successful.\n"
     ]
    },
    {
     "data": {
      "text/html": [
       "\n",
       "<style>\n",
       "\n",
       "#h2o-table-2.h2o-container {\n",
       "  overflow-x: auto;\n",
       "}\n",
       "#h2o-table-2 .h2o-table {\n",
       "  /* width: 100%; */\n",
       "  margin-top: 1em;\n",
       "  margin-bottom: 1em;\n",
       "}\n",
       "#h2o-table-2 .h2o-table caption {\n",
       "  white-space: nowrap;\n",
       "  caption-side: top;\n",
       "  text-align: left;\n",
       "  /* margin-left: 1em; */\n",
       "  margin: 0;\n",
       "  font-size: larger;\n",
       "}\n",
       "#h2o-table-2 .h2o-table thead {\n",
       "  white-space: nowrap; \n",
       "  position: sticky;\n",
       "  top: 0;\n",
       "  box-shadow: 0 -1px inset;\n",
       "}\n",
       "#h2o-table-2 .h2o-table tbody {\n",
       "  overflow: auto;\n",
       "}\n",
       "#h2o-table-2 .h2o-table th,\n",
       "#h2o-table-2 .h2o-table td {\n",
       "  text-align: right;\n",
       "  /* border: 1px solid; */\n",
       "}\n",
       "#h2o-table-2 .h2o-table tr:nth-child(even) {\n",
       "  /* background: #F5F5F5 */\n",
       "}\n",
       "\n",
       "</style>      \n",
       "<div id=\"h2o-table-2\" class=\"h2o-container\">\n",
       "  <table class=\"h2o-table\">\n",
       "    <caption></caption>\n",
       "    <thead></thead>\n",
       "    <tbody><tr><td>H2O_cluster_uptime:</td>\n",
       "<td>01 secs</td></tr>\n",
       "<tr><td>H2O_cluster_timezone:</td>\n",
       "<td>Asia/Jerusalem</td></tr>\n",
       "<tr><td>H2O_data_parsing_timezone:</td>\n",
       "<td>UTC</td></tr>\n",
       "<tr><td>H2O_cluster_version:</td>\n",
       "<td>3.40.0.4</td></tr>\n",
       "<tr><td>H2O_cluster_version_age:</td>\n",
       "<td>10 days</td></tr>\n",
       "<tr><td>H2O_cluster_name:</td>\n",
       "<td>H2O_from_python_orgindes_jmwels</td></tr>\n",
       "<tr><td>H2O_cluster_total_nodes:</td>\n",
       "<td>1</td></tr>\n",
       "<tr><td>H2O_cluster_free_memory:</td>\n",
       "<td>1.904 Gb</td></tr>\n",
       "<tr><td>H2O_cluster_total_cores:</td>\n",
       "<td>8</td></tr>\n",
       "<tr><td>H2O_cluster_allowed_cores:</td>\n",
       "<td>8</td></tr>\n",
       "<tr><td>H2O_cluster_status:</td>\n",
       "<td>locked, healthy</td></tr>\n",
       "<tr><td>H2O_connection_url:</td>\n",
       "<td>http://127.0.0.1:54323</td></tr>\n",
       "<tr><td>H2O_connection_proxy:</td>\n",
       "<td>{\"http\": null, \"https\": null}</td></tr>\n",
       "<tr><td>H2O_internal_security:</td>\n",
       "<td>False</td></tr>\n",
       "<tr><td>Python_version:</td>\n",
       "<td>3.8.16 final</td></tr></tbody>\n",
       "  </table>\n",
       "</div>\n"
      ],
      "text/plain": [
       "--------------------------  -------------------------------\n",
       "H2O_cluster_uptime:         01 secs\n",
       "H2O_cluster_timezone:       Asia/Jerusalem\n",
       "H2O_data_parsing_timezone:  UTC\n",
       "H2O_cluster_version:        3.40.0.4\n",
       "H2O_cluster_version_age:    10 days\n",
       "H2O_cluster_name:           H2O_from_python_orgindes_jmwels\n",
       "H2O_cluster_total_nodes:    1\n",
       "H2O_cluster_free_memory:    1.904 Gb\n",
       "H2O_cluster_total_cores:    8\n",
       "H2O_cluster_allowed_cores:  8\n",
       "H2O_cluster_status:         locked, healthy\n",
       "H2O_connection_url:         http://127.0.0.1:54323\n",
       "H2O_connection_proxy:       {\"http\": null, \"https\": null}\n",
       "H2O_internal_security:      False\n",
       "Python_version:             3.8.16 final\n",
       "--------------------------  -------------------------------"
      ]
     },
     "metadata": {},
     "output_type": "display_data"
    }
   ],
   "source": [
    "import h2o\n",
    "from h2o.automl import H2OAutoML\n",
    "h2o.init()"
   ]
  },
  {
   "cell_type": "code",
   "execution_count": 25,
   "metadata": {
    "scrolled": true
   },
   "outputs": [
    {
     "name": "stdout",
     "output_type": "stream",
     "text": [
      "Parse progress: |████████████████████████████████████████████████████████████████| (done) 100%\n",
      "AutoML progress: |\n",
      "19:24:12.350: _train param, Dropping bad and constant columns: [F_1929, F_1373, F_1379, F_1378, F_1499, F_1930, F_1375, F_1374, F_1377, F_1376, F_1497, F_1382, F_1381, F_1384, F_1383, F_1380, F_445, F_1700, F_1942, F_446, F_1941, F_1386, F_1385, F_1470, F_1472, F_1471, F_458, F_1478, F_1599, F_1477, F_1479, F_1474, F_1595, F_455, F_1476, F_1597, F_1475, F_1596, F_1481, F_1480, F_1483, F_460, F_1482, F_472, F_1690, F_1692, F_1691, F_1456, F_1698, F_1455, F_1576, F_1697, F_1458, F_1457, F_1578, F_1699, F_1694, F_1693, F_1454, F_1696, F_1453, F_1695, F_3638, F_1459, F_1461, F_1460, F_1467, F_1466, F_1469, F_1463, F_367, F_1462, F_1465, F_1464, F_1548, F_1549, F_495, F_490, F_491, F_1555, F_1676, F_1554, F_1675, F_1557, F_1678, F_1556, F_1551, F_1550, F_1553, F_1674, F_1438, F_1559, F_1437, F_1558, F_1679, F_1439, F_1560, F_1680, F_380, F_1445, F_1446, F_1441, F_1562, F_1683, F_1561, F_1682, F_1443, F_1442, F_1404, F_1525, F_1533, F_1532, F_1535, F_1534, F_1655, F_1537, F_2505, F_1536, F_1657, F_1418, F_1539, F_1538, F_1544, F_1543, F_1546, F_1545, F_1540, F_1542, F_1420, F_1541, F_1629, F_1628, F_1625, F_1624, F_1627, F_1989, F_1632, F_1995, F_1994, F_2049, F_1634, F_1633, F_1990, F_1630, F_1518, F_1639, F_1636, F_1635, F_1517, F_1638, F_1516, F_1637, F_3141, F_2050, F_1401, F_1522, F_1400, F_1521, F_2973, F_1403, F_1524, F_1402, F_2854, F_1520, F_1641, F_1640, F_508, F_509, F_1603, F_1845, F_1966, F_1965, F_504, F_1968, F_1604, F_1967, F_2020, F_2028, F_2027, F_1612, F_1611, F_2029, F_2024, F_2023, F_1618, F_1617, F_1619, F_1614, F_1977, F_1613, F_1616, F_1615, F_1978, F_2031, F_2152, F_2030, F_1621, F_2039, F_1620, F_2038, F_1623, F_1622, F_2035, F_2034, F_1706, F_1947, F_1708, F_1707, F_1702, F_1701, F_1704, F_1946, F_1703, F_1709, F_2121, F_1951, F_2006, F_2005, F_2126, F_1711, F_1953, F_1952, F_2128, F_2123, F_532, F_2122, F_1399, F_2125, F_2124, F_1959, F_1958, F_1713, F_1955, F_1712, F_1954, F_1714, F_1835, F_1956, F_3340, F_2131, F_1962, F_2017, F_2016, F_1601, F_1964, F_2019, F_1600, F_1963, F_2018, F_2139, F_2133, F_2136]\n",
      "\n",
      "█\n",
      "19:24:19.596: _train param, Dropping bad and constant columns: [F_1929, F_1373, F_1379, F_1378, F_1499, F_1930, F_1375, F_1374, F_1377, F_1376, F_1497, F_1382, F_1381, F_1384, F_1383, F_1380, F_445, F_1700, F_1942, F_446, F_1941, F_1386, F_1385, F_1470, F_1472, F_1471, F_458, F_1478, F_1599, F_1477, F_1479, F_1474, F_1595, F_455, F_1476, F_1597, F_1475, F_1596, F_1481, F_1480, F_1483, F_460, F_1482, F_472, F_1690, F_1692, F_1691, F_1456, F_1698, F_1455, F_1576, F_1697, F_1458, F_1457, F_1578, F_1699, F_1694, F_1693, F_1454, F_1696, F_1453, F_1695, F_3638, F_1459, F_1461, F_1460, F_1467, F_1466, F_1469, F_1463, F_367, F_1462, F_1465, F_1464, F_1548, F_1549, F_495, F_490, F_491, F_1555, F_1676, F_1554, F_1675, F_1557, F_1678, F_1556, F_1551, F_1550, F_1553, F_1674, F_1438, F_1559, F_1437, F_1558, F_1679, F_1439, F_1560, F_1680, F_380, F_1445, F_1446, F_1441, F_1562, F_1683, F_1561, F_1682, F_1443, F_1442, F_1404, F_1525, F_1533, F_1532, F_1535, F_1534, F_1655, F_1537, F_2505, F_1536, F_1657, F_1418, F_1539, F_1538, F_1544, F_1543, F_1546, F_1545, F_1540, F_1542, F_1420, F_1541, F_1629, F_1628, F_1625, F_1624, F_1627, F_1989, F_1632, F_1995, F_1994, F_2049, F_1634, F_1633, F_1990, F_1630, F_1518, F_1639, F_1636, F_1635, F_1517, F_1638, F_1516, F_1637, F_3141, F_2050, F_1401, F_1522, F_1400, F_1521, F_2973, F_1403, F_1524, F_1402, F_2854, F_1520, F_1641, F_1640, F_508, F_509, F_1603, F_1845, F_1966, F_1965, F_504, F_1968, F_1604, F_1967, F_2020, F_2028, F_2027, F_1612, F_1611, F_2029, F_2024, F_2023, F_1618, F_1617, F_1619, F_1614, F_1977, F_1613, F_1616, F_1615, F_1978, F_2031, F_2152, F_2030, F_1621, F_2039, F_1620, F_2038, F_1623, F_1622, F_2035, F_2034, F_1706, F_1947, F_1708, F_1707, F_1702, F_1701, F_1704, F_1946, F_1703, F_1709, F_2121, F_1951, F_2006, F_2005, F_2126, F_1711, F_1953, F_1952, F_2128, F_2123, F_532, F_2122, F_1399, F_2125, F_2124, F_1959, F_1958, F_1713, F_1955, F_1712, F_1954, F_1714, F_1835, F_1956, F_3340, F_2131, F_1962, F_2017, F_2016, F_1601, F_1964, F_2019, F_1600, F_1963, F_2018, F_2139, F_2133, F_2136]\n",
      "\n",
      "██ (cancelled)\n"
     ]
    },
    {
     "ename": "KeyboardInterrupt",
     "evalue": "",
     "output_type": "error",
     "traceback": [
      "\u001b[0;31m---------------------------------------------------------------------------\u001b[0m",
      "\u001b[0;31mKeyboardInterrupt\u001b[0m                         Traceback (most recent call last)",
      "Cell \u001b[0;32mIn[25], line 8\u001b[0m\n\u001b[1;32m      5\u001b[0m train_df[y] \u001b[38;5;241m=\u001b[39m train_df[y]\u001b[38;5;241m.\u001b[39masfactor()\n\u001b[1;32m      7\u001b[0m h2o_automl \u001b[38;5;241m=\u001b[39m H2OAutoML(max_models\u001b[38;5;241m=\u001b[39m\u001b[38;5;241m50\u001b[39m, seed\u001b[38;5;241m=\u001b[39m\u001b[38;5;241m42\u001b[39m, stopping_metric\u001b[38;5;241m=\u001b[39m\u001b[38;5;124m\"\u001b[39m\u001b[38;5;124mAUC\u001b[39m\u001b[38;5;124m\"\u001b[39m)\n\u001b[0;32m----> 8\u001b[0m \u001b[43mh2o_automl\u001b[49m\u001b[38;5;241;43m.\u001b[39;49m\u001b[43mtrain\u001b[49m\u001b[43m(\u001b[49m\u001b[43mx\u001b[49m\u001b[38;5;241;43m=\u001b[39;49m\u001b[43mx\u001b[49m\u001b[43m,\u001b[49m\u001b[43m \u001b[49m\u001b[43my\u001b[49m\u001b[38;5;241;43m=\u001b[39;49m\u001b[43my\u001b[49m\u001b[43m,\u001b[49m\u001b[43m \u001b[49m\u001b[43mtraining_frame\u001b[49m\u001b[38;5;241;43m=\u001b[39;49m\u001b[43mtrain_df\u001b[49m\u001b[43m)\u001b[49m\n",
      "File \u001b[0;32m~/anaconda3/envs/MachineLearning_37225214/lib/python3.8/site-packages/h2o/automl/_estimator.py:679\u001b[0m, in \u001b[0;36mH2OAutoML.train\u001b[0;34m(self, x, y, training_frame, fold_column, weights_column, validation_frame, leaderboard_frame, blending_frame)\u001b[0m\n\u001b[1;32m    677\u001b[0m poll_updates \u001b[38;5;241m=\u001b[39m ft\u001b[38;5;241m.\u001b[39mpartial(\u001b[38;5;28mself\u001b[39m\u001b[38;5;241m.\u001b[39m_poll_training_updates, verbosity\u001b[38;5;241m=\u001b[39m\u001b[38;5;28mself\u001b[39m\u001b[38;5;241m.\u001b[39m_verbosity, state\u001b[38;5;241m=\u001b[39m{})\n\u001b[1;32m    678\u001b[0m \u001b[38;5;28;01mtry\u001b[39;00m:\n\u001b[0;32m--> 679\u001b[0m     \u001b[38;5;28;43mself\u001b[39;49m\u001b[38;5;241;43m.\u001b[39;49m\u001b[43m_job\u001b[49m\u001b[38;5;241;43m.\u001b[39;49m\u001b[43mpoll\u001b[49m\u001b[43m(\u001b[49m\u001b[43mpoll_updates\u001b[49m\u001b[38;5;241;43m=\u001b[39;49m\u001b[43mpoll_updates\u001b[49m\u001b[43m)\u001b[49m\n\u001b[1;32m    680\u001b[0m \u001b[38;5;28;01mfinally\u001b[39;00m:\n\u001b[1;32m    681\u001b[0m     poll_updates(\u001b[38;5;28mself\u001b[39m\u001b[38;5;241m.\u001b[39m_job, \u001b[38;5;241m1\u001b[39m)\n",
      "File \u001b[0;32m~/anaconda3/envs/MachineLearning_37225214/lib/python3.8/site-packages/h2o/job.py:76\u001b[0m, in \u001b[0;36mH2OJob.poll\u001b[0;34m(self, poll_updates)\u001b[0m\n\u001b[1;32m     74\u001b[0m \u001b[38;5;28;01mexcept\u001b[39;00m \u001b[38;5;167;01mStopIteration\u001b[39;00m \u001b[38;5;28;01mas\u001b[39;00m e:\n\u001b[1;32m     75\u001b[0m     \u001b[38;5;28;01mif\u001b[39;00m \u001b[38;5;28mstr\u001b[39m(e) \u001b[38;5;241m==\u001b[39m \u001b[38;5;124m\"\u001b[39m\u001b[38;5;124mcancelled\u001b[39m\u001b[38;5;124m\"\u001b[39m:\n\u001b[0;32m---> 76\u001b[0m         \u001b[38;5;28;43mself\u001b[39;49m\u001b[38;5;241;43m.\u001b[39;49m\u001b[43mcancel\u001b[49m\u001b[43m(\u001b[49m\u001b[43m)\u001b[49m\n\u001b[1;32m     77\u001b[0m     \u001b[38;5;66;03m# Potentially we may want to re-raise the exception here\u001b[39;00m\n\u001b[1;32m     79\u001b[0m \u001b[38;5;28;01massert\u001b[39;00m \u001b[38;5;28mself\u001b[39m\u001b[38;5;241m.\u001b[39mstatus \u001b[38;5;129;01min\u001b[39;00m {\u001b[38;5;124m\"\u001b[39m\u001b[38;5;124mDONE\u001b[39m\u001b[38;5;124m\"\u001b[39m, \u001b[38;5;124m\"\u001b[39m\u001b[38;5;124mCANCELLED\u001b[39m\u001b[38;5;124m\"\u001b[39m, \u001b[38;5;124m\"\u001b[39m\u001b[38;5;124mFAILED\u001b[39m\u001b[38;5;124m\"\u001b[39m} \u001b[38;5;129;01mor\u001b[39;00m \u001b[38;5;28mself\u001b[39m\u001b[38;5;241m.\u001b[39m_poll_count \u001b[38;5;241m<\u001b[39m\u001b[38;5;241m=\u001b[39m \u001b[38;5;241m0\u001b[39m, \\\n\u001b[1;32m     80\u001b[0m     \u001b[38;5;124m\"\u001b[39m\u001b[38;5;124mPolling finished while the job has status \u001b[39m\u001b[38;5;132;01m%s\u001b[39;00m\u001b[38;5;124m\"\u001b[39m \u001b[38;5;241m%\u001b[39m \u001b[38;5;28mself\u001b[39m\u001b[38;5;241m.\u001b[39mstatus\n",
      "File \u001b[0;32m~/anaconda3/envs/MachineLearning_37225214/lib/python3.8/site-packages/h2o/job.py:106\u001b[0m, in \u001b[0;36mH2OJob.cancel\u001b[0;34m(self)\u001b[0m\n\u001b[1;32m    105\u001b[0m \u001b[38;5;28;01mdef\u001b[39;00m \u001b[38;5;21mcancel\u001b[39m(\u001b[38;5;28mself\u001b[39m):\n\u001b[0;32m--> 106\u001b[0m     \u001b[43mh2o\u001b[49m\u001b[38;5;241;43m.\u001b[39;49m\u001b[43mapi\u001b[49m\u001b[43m(\u001b[49m\u001b[38;5;124;43m\"\u001b[39;49m\u001b[38;5;124;43mPOST /3/Jobs/\u001b[39;49m\u001b[38;5;132;43;01m%s\u001b[39;49;00m\u001b[38;5;124;43m/cancel\u001b[39;49m\u001b[38;5;124;43m\"\u001b[39;49m\u001b[43m \u001b[49m\u001b[38;5;241;43m%\u001b[39;49m\u001b[43m \u001b[49m\u001b[38;5;28;43mself\u001b[39;49m\u001b[38;5;241;43m.\u001b[39;49m\u001b[43mjob_key\u001b[49m\u001b[43m)\u001b[49m\n\u001b[1;32m    107\u001b[0m     \u001b[38;5;28mself\u001b[39m\u001b[38;5;241m.\u001b[39mstatus \u001b[38;5;241m=\u001b[39m \u001b[38;5;124m\"\u001b[39m\u001b[38;5;124mCANCELLED\u001b[39m\u001b[38;5;124m\"\u001b[39m\n",
      "File \u001b[0;32m~/anaconda3/envs/MachineLearning_37225214/lib/python3.8/site-packages/h2o/h2o.py:124\u001b[0m, in \u001b[0;36mapi\u001b[0;34m(endpoint, data, json, filename, save_to)\u001b[0m\n\u001b[1;32m    122\u001b[0m \u001b[38;5;66;03m# type checks are performed in H2OConnection class\u001b[39;00m\n\u001b[1;32m    123\u001b[0m _check_connection()\n\u001b[0;32m--> 124\u001b[0m \u001b[38;5;28;01mreturn\u001b[39;00m \u001b[43mh2oconn\u001b[49m\u001b[38;5;241;43m.\u001b[39;49m\u001b[43mrequest\u001b[49m\u001b[43m(\u001b[49m\u001b[43mendpoint\u001b[49m\u001b[43m,\u001b[49m\u001b[43m \u001b[49m\u001b[43mdata\u001b[49m\u001b[38;5;241;43m=\u001b[39;49m\u001b[43mdata\u001b[49m\u001b[43m,\u001b[49m\u001b[43m \u001b[49m\u001b[43mjson\u001b[49m\u001b[38;5;241;43m=\u001b[39;49m\u001b[43mjson\u001b[49m\u001b[43m,\u001b[49m\u001b[43m \u001b[49m\u001b[43mfilename\u001b[49m\u001b[38;5;241;43m=\u001b[39;49m\u001b[43mfilename\u001b[49m\u001b[43m,\u001b[49m\u001b[43m \u001b[49m\u001b[43msave_to\u001b[49m\u001b[38;5;241;43m=\u001b[39;49m\u001b[43msave_to\u001b[49m\u001b[43m)\u001b[49m\n",
      "File \u001b[0;32m~/anaconda3/envs/MachineLearning_37225214/lib/python3.8/site-packages/h2o/backend/connection.py:494\u001b[0m, in \u001b[0;36mH2OConnection.request\u001b[0;34m(self, endpoint, data, json, filename, save_to)\u001b[0m\n\u001b[1;32m    492\u001b[0m \u001b[38;5;28mself\u001b[39m\u001b[38;5;241m.\u001b[39m_log_start_transaction(endpoint, rd, json, filename, params)\n\u001b[1;32m    493\u001b[0m args \u001b[38;5;241m=\u001b[39m \u001b[38;5;28mself\u001b[39m\u001b[38;5;241m.\u001b[39m_request_args()\n\u001b[0;32m--> 494\u001b[0m resp \u001b[38;5;241m=\u001b[39m \u001b[43mrequests\u001b[49m\u001b[38;5;241;43m.\u001b[39;49m\u001b[43mrequest\u001b[49m\u001b[43m(\u001b[49m\u001b[43mmethod\u001b[49m\u001b[38;5;241;43m=\u001b[39;49m\u001b[43mmethod\u001b[49m\u001b[43m,\u001b[49m\u001b[43m \u001b[49m\u001b[43murl\u001b[49m\u001b[38;5;241;43m=\u001b[39;49m\u001b[43murl\u001b[49m\u001b[43m,\u001b[49m\u001b[43m \u001b[49m\u001b[43mdata\u001b[49m\u001b[38;5;241;43m=\u001b[39;49m\u001b[43mrd\u001b[49m\u001b[43m,\u001b[49m\u001b[43m \u001b[49m\u001b[43mjson\u001b[49m\u001b[38;5;241;43m=\u001b[39;49m\u001b[43mjson\u001b[49m\u001b[43m,\u001b[49m\u001b[43m \u001b[49m\u001b[43mparams\u001b[49m\u001b[38;5;241;43m=\u001b[39;49m\u001b[43mparams\u001b[49m\u001b[43m,\u001b[49m\n\u001b[1;32m    495\u001b[0m \u001b[43m                        \u001b[49m\u001b[43mstream\u001b[49m\u001b[38;5;241;43m=\u001b[39;49m\u001b[43mstream\u001b[49m\u001b[43m,\u001b[49m\u001b[43m \u001b[49m\u001b[38;5;241;43m*\u001b[39;49m\u001b[38;5;241;43m*\u001b[39;49m\u001b[43margs\u001b[49m\u001b[43m)\u001b[49m\n\u001b[1;32m    496\u001b[0m \u001b[38;5;28;01mif\u001b[39;00m \u001b[38;5;28misinstance\u001b[39m(save_to, types\u001b[38;5;241m.\u001b[39mFunctionType):\n\u001b[1;32m    497\u001b[0m     save_to \u001b[38;5;241m=\u001b[39m save_to(resp)\n",
      "File \u001b[0;32m~/anaconda3/envs/MachineLearning_37225214/lib/python3.8/site-packages/requests/api.py:59\u001b[0m, in \u001b[0;36mrequest\u001b[0;34m(method, url, **kwargs)\u001b[0m\n\u001b[1;32m     55\u001b[0m \u001b[38;5;66;03m# By using the 'with' statement we are sure the session is closed, thus we\u001b[39;00m\n\u001b[1;32m     56\u001b[0m \u001b[38;5;66;03m# avoid leaving sockets open which can trigger a ResourceWarning in some\u001b[39;00m\n\u001b[1;32m     57\u001b[0m \u001b[38;5;66;03m# cases, and look like a memory leak in others.\u001b[39;00m\n\u001b[1;32m     58\u001b[0m \u001b[38;5;28;01mwith\u001b[39;00m sessions\u001b[38;5;241m.\u001b[39mSession() \u001b[38;5;28;01mas\u001b[39;00m session:\n\u001b[0;32m---> 59\u001b[0m     \u001b[38;5;28;01mreturn\u001b[39;00m \u001b[43msession\u001b[49m\u001b[38;5;241;43m.\u001b[39;49m\u001b[43mrequest\u001b[49m\u001b[43m(\u001b[49m\u001b[43mmethod\u001b[49m\u001b[38;5;241;43m=\u001b[39;49m\u001b[43mmethod\u001b[49m\u001b[43m,\u001b[49m\u001b[43m \u001b[49m\u001b[43murl\u001b[49m\u001b[38;5;241;43m=\u001b[39;49m\u001b[43murl\u001b[49m\u001b[43m,\u001b[49m\u001b[43m \u001b[49m\u001b[38;5;241;43m*\u001b[39;49m\u001b[38;5;241;43m*\u001b[39;49m\u001b[43mkwargs\u001b[49m\u001b[43m)\u001b[49m\n",
      "File \u001b[0;32m~/anaconda3/envs/MachineLearning_37225214/lib/python3.8/site-packages/requests/sessions.py:587\u001b[0m, in \u001b[0;36mSession.request\u001b[0;34m(self, method, url, params, data, headers, cookies, files, auth, timeout, allow_redirects, proxies, hooks, stream, verify, cert, json)\u001b[0m\n\u001b[1;32m    582\u001b[0m send_kwargs \u001b[38;5;241m=\u001b[39m {\n\u001b[1;32m    583\u001b[0m     \u001b[38;5;124m\"\u001b[39m\u001b[38;5;124mtimeout\u001b[39m\u001b[38;5;124m\"\u001b[39m: timeout,\n\u001b[1;32m    584\u001b[0m     \u001b[38;5;124m\"\u001b[39m\u001b[38;5;124mallow_redirects\u001b[39m\u001b[38;5;124m\"\u001b[39m: allow_redirects,\n\u001b[1;32m    585\u001b[0m }\n\u001b[1;32m    586\u001b[0m send_kwargs\u001b[38;5;241m.\u001b[39mupdate(settings)\n\u001b[0;32m--> 587\u001b[0m resp \u001b[38;5;241m=\u001b[39m \u001b[38;5;28;43mself\u001b[39;49m\u001b[38;5;241;43m.\u001b[39;49m\u001b[43msend\u001b[49m\u001b[43m(\u001b[49m\u001b[43mprep\u001b[49m\u001b[43m,\u001b[49m\u001b[43m \u001b[49m\u001b[38;5;241;43m*\u001b[39;49m\u001b[38;5;241;43m*\u001b[39;49m\u001b[43msend_kwargs\u001b[49m\u001b[43m)\u001b[49m\n\u001b[1;32m    589\u001b[0m \u001b[38;5;28;01mreturn\u001b[39;00m resp\n",
      "File \u001b[0;32m~/anaconda3/envs/MachineLearning_37225214/lib/python3.8/site-packages/requests/sessions.py:701\u001b[0m, in \u001b[0;36mSession.send\u001b[0;34m(self, request, **kwargs)\u001b[0m\n\u001b[1;32m    698\u001b[0m start \u001b[38;5;241m=\u001b[39m preferred_clock()\n\u001b[1;32m    700\u001b[0m \u001b[38;5;66;03m# Send the request\u001b[39;00m\n\u001b[0;32m--> 701\u001b[0m r \u001b[38;5;241m=\u001b[39m \u001b[43madapter\u001b[49m\u001b[38;5;241;43m.\u001b[39;49m\u001b[43msend\u001b[49m\u001b[43m(\u001b[49m\u001b[43mrequest\u001b[49m\u001b[43m,\u001b[49m\u001b[43m \u001b[49m\u001b[38;5;241;43m*\u001b[39;49m\u001b[38;5;241;43m*\u001b[39;49m\u001b[43mkwargs\u001b[49m\u001b[43m)\u001b[49m\n\u001b[1;32m    703\u001b[0m \u001b[38;5;66;03m# Total elapsed time of the request (approximately)\u001b[39;00m\n\u001b[1;32m    704\u001b[0m elapsed \u001b[38;5;241m=\u001b[39m preferred_clock() \u001b[38;5;241m-\u001b[39m start\n",
      "File \u001b[0;32m~/anaconda3/envs/MachineLearning_37225214/lib/python3.8/site-packages/requests/adapters.py:487\u001b[0m, in \u001b[0;36mHTTPAdapter.send\u001b[0;34m(self, request, stream, timeout, verify, cert, proxies)\u001b[0m\n\u001b[1;32m    484\u001b[0m     timeout \u001b[38;5;241m=\u001b[39m TimeoutSauce(connect\u001b[38;5;241m=\u001b[39mtimeout, read\u001b[38;5;241m=\u001b[39mtimeout)\n\u001b[1;32m    486\u001b[0m \u001b[38;5;28;01mtry\u001b[39;00m:\n\u001b[0;32m--> 487\u001b[0m     resp \u001b[38;5;241m=\u001b[39m \u001b[43mconn\u001b[49m\u001b[38;5;241;43m.\u001b[39;49m\u001b[43murlopen\u001b[49m\u001b[43m(\u001b[49m\n\u001b[1;32m    488\u001b[0m \u001b[43m        \u001b[49m\u001b[43mmethod\u001b[49m\u001b[38;5;241;43m=\u001b[39;49m\u001b[43mrequest\u001b[49m\u001b[38;5;241;43m.\u001b[39;49m\u001b[43mmethod\u001b[49m\u001b[43m,\u001b[49m\n\u001b[1;32m    489\u001b[0m \u001b[43m        \u001b[49m\u001b[43murl\u001b[49m\u001b[38;5;241;43m=\u001b[39;49m\u001b[43murl\u001b[49m\u001b[43m,\u001b[49m\n\u001b[1;32m    490\u001b[0m \u001b[43m        \u001b[49m\u001b[43mbody\u001b[49m\u001b[38;5;241;43m=\u001b[39;49m\u001b[43mrequest\u001b[49m\u001b[38;5;241;43m.\u001b[39;49m\u001b[43mbody\u001b[49m\u001b[43m,\u001b[49m\n\u001b[1;32m    491\u001b[0m \u001b[43m        \u001b[49m\u001b[43mheaders\u001b[49m\u001b[38;5;241;43m=\u001b[39;49m\u001b[43mrequest\u001b[49m\u001b[38;5;241;43m.\u001b[39;49m\u001b[43mheaders\u001b[49m\u001b[43m,\u001b[49m\n\u001b[1;32m    492\u001b[0m \u001b[43m        \u001b[49m\u001b[43mredirect\u001b[49m\u001b[38;5;241;43m=\u001b[39;49m\u001b[38;5;28;43;01mFalse\u001b[39;49;00m\u001b[43m,\u001b[49m\n\u001b[1;32m    493\u001b[0m \u001b[43m        \u001b[49m\u001b[43massert_same_host\u001b[49m\u001b[38;5;241;43m=\u001b[39;49m\u001b[38;5;28;43;01mFalse\u001b[39;49;00m\u001b[43m,\u001b[49m\n\u001b[1;32m    494\u001b[0m \u001b[43m        \u001b[49m\u001b[43mpreload_content\u001b[49m\u001b[38;5;241;43m=\u001b[39;49m\u001b[38;5;28;43;01mFalse\u001b[39;49;00m\u001b[43m,\u001b[49m\n\u001b[1;32m    495\u001b[0m \u001b[43m        \u001b[49m\u001b[43mdecode_content\u001b[49m\u001b[38;5;241;43m=\u001b[39;49m\u001b[38;5;28;43;01mFalse\u001b[39;49;00m\u001b[43m,\u001b[49m\n\u001b[1;32m    496\u001b[0m \u001b[43m        \u001b[49m\u001b[43mretries\u001b[49m\u001b[38;5;241;43m=\u001b[39;49m\u001b[38;5;28;43mself\u001b[39;49m\u001b[38;5;241;43m.\u001b[39;49m\u001b[43mmax_retries\u001b[49m\u001b[43m,\u001b[49m\n\u001b[1;32m    497\u001b[0m \u001b[43m        \u001b[49m\u001b[43mtimeout\u001b[49m\u001b[38;5;241;43m=\u001b[39;49m\u001b[43mtimeout\u001b[49m\u001b[43m,\u001b[49m\n\u001b[1;32m    498\u001b[0m \u001b[43m        \u001b[49m\u001b[43mchunked\u001b[49m\u001b[38;5;241;43m=\u001b[39;49m\u001b[43mchunked\u001b[49m\u001b[43m,\u001b[49m\n\u001b[1;32m    499\u001b[0m \u001b[43m    \u001b[49m\u001b[43m)\u001b[49m\n\u001b[1;32m    501\u001b[0m \u001b[38;5;28;01mexcept\u001b[39;00m (ProtocolError, \u001b[38;5;167;01mOSError\u001b[39;00m) \u001b[38;5;28;01mas\u001b[39;00m err:\n\u001b[1;32m    502\u001b[0m     \u001b[38;5;28;01mraise\u001b[39;00m \u001b[38;5;167;01mConnectionError\u001b[39;00m(err, request\u001b[38;5;241m=\u001b[39mrequest)\n",
      "File \u001b[0;32m~/anaconda3/envs/MachineLearning_37225214/lib/python3.8/site-packages/urllib3/connectionpool.py:703\u001b[0m, in \u001b[0;36mHTTPConnectionPool.urlopen\u001b[0;34m(self, method, url, body, headers, retries, redirect, assert_same_host, timeout, pool_timeout, release_conn, chunked, body_pos, **response_kw)\u001b[0m\n\u001b[1;32m    700\u001b[0m     \u001b[38;5;28mself\u001b[39m\u001b[38;5;241m.\u001b[39m_prepare_proxy(conn)\n\u001b[1;32m    702\u001b[0m \u001b[38;5;66;03m# Make the request on the httplib connection object.\u001b[39;00m\n\u001b[0;32m--> 703\u001b[0m httplib_response \u001b[38;5;241m=\u001b[39m \u001b[38;5;28;43mself\u001b[39;49m\u001b[38;5;241;43m.\u001b[39;49m\u001b[43m_make_request\u001b[49m\u001b[43m(\u001b[49m\n\u001b[1;32m    704\u001b[0m \u001b[43m    \u001b[49m\u001b[43mconn\u001b[49m\u001b[43m,\u001b[49m\n\u001b[1;32m    705\u001b[0m \u001b[43m    \u001b[49m\u001b[43mmethod\u001b[49m\u001b[43m,\u001b[49m\n\u001b[1;32m    706\u001b[0m \u001b[43m    \u001b[49m\u001b[43murl\u001b[49m\u001b[43m,\u001b[49m\n\u001b[1;32m    707\u001b[0m \u001b[43m    \u001b[49m\u001b[43mtimeout\u001b[49m\u001b[38;5;241;43m=\u001b[39;49m\u001b[43mtimeout_obj\u001b[49m\u001b[43m,\u001b[49m\n\u001b[1;32m    708\u001b[0m \u001b[43m    \u001b[49m\u001b[43mbody\u001b[49m\u001b[38;5;241;43m=\u001b[39;49m\u001b[43mbody\u001b[49m\u001b[43m,\u001b[49m\n\u001b[1;32m    709\u001b[0m \u001b[43m    \u001b[49m\u001b[43mheaders\u001b[49m\u001b[38;5;241;43m=\u001b[39;49m\u001b[43mheaders\u001b[49m\u001b[43m,\u001b[49m\n\u001b[1;32m    710\u001b[0m \u001b[43m    \u001b[49m\u001b[43mchunked\u001b[49m\u001b[38;5;241;43m=\u001b[39;49m\u001b[43mchunked\u001b[49m\u001b[43m,\u001b[49m\n\u001b[1;32m    711\u001b[0m \u001b[43m\u001b[49m\u001b[43m)\u001b[49m\n\u001b[1;32m    713\u001b[0m \u001b[38;5;66;03m# If we're going to release the connection in ``finally:``, then\u001b[39;00m\n\u001b[1;32m    714\u001b[0m \u001b[38;5;66;03m# the response doesn't need to know about the connection. Otherwise\u001b[39;00m\n\u001b[1;32m    715\u001b[0m \u001b[38;5;66;03m# it will also try to release it and we'll have a double-release\u001b[39;00m\n\u001b[1;32m    716\u001b[0m \u001b[38;5;66;03m# mess.\u001b[39;00m\n\u001b[1;32m    717\u001b[0m response_conn \u001b[38;5;241m=\u001b[39m conn \u001b[38;5;28;01mif\u001b[39;00m \u001b[38;5;129;01mnot\u001b[39;00m release_conn \u001b[38;5;28;01melse\u001b[39;00m \u001b[38;5;28;01mNone\u001b[39;00m\n",
      "File \u001b[0;32m~/anaconda3/envs/MachineLearning_37225214/lib/python3.8/site-packages/urllib3/connectionpool.py:449\u001b[0m, in \u001b[0;36mHTTPConnectionPool._make_request\u001b[0;34m(self, conn, method, url, timeout, chunked, **httplib_request_kw)\u001b[0m\n\u001b[1;32m    444\u001b[0m             httplib_response \u001b[38;5;241m=\u001b[39m conn\u001b[38;5;241m.\u001b[39mgetresponse()\n\u001b[1;32m    445\u001b[0m         \u001b[38;5;28;01mexcept\u001b[39;00m \u001b[38;5;167;01mBaseException\u001b[39;00m \u001b[38;5;28;01mas\u001b[39;00m e:\n\u001b[1;32m    446\u001b[0m             \u001b[38;5;66;03m# Remove the TypeError from the exception chain in\u001b[39;00m\n\u001b[1;32m    447\u001b[0m             \u001b[38;5;66;03m# Python 3 (including for exceptions like SystemExit).\u001b[39;00m\n\u001b[1;32m    448\u001b[0m             \u001b[38;5;66;03m# Otherwise it looks like a bug in the code.\u001b[39;00m\n\u001b[0;32m--> 449\u001b[0m             \u001b[43msix\u001b[49m\u001b[38;5;241;43m.\u001b[39;49m\u001b[43mraise_from\u001b[49m\u001b[43m(\u001b[49m\u001b[43me\u001b[49m\u001b[43m,\u001b[49m\u001b[43m \u001b[49m\u001b[38;5;28;43;01mNone\u001b[39;49;00m\u001b[43m)\u001b[49m\n\u001b[1;32m    450\u001b[0m \u001b[38;5;28;01mexcept\u001b[39;00m (SocketTimeout, BaseSSLError, SocketError) \u001b[38;5;28;01mas\u001b[39;00m e:\n\u001b[1;32m    451\u001b[0m     \u001b[38;5;28mself\u001b[39m\u001b[38;5;241m.\u001b[39m_raise_timeout(err\u001b[38;5;241m=\u001b[39me, url\u001b[38;5;241m=\u001b[39murl, timeout_value\u001b[38;5;241m=\u001b[39mread_timeout)\n",
      "File \u001b[0;32m<string>:3\u001b[0m, in \u001b[0;36mraise_from\u001b[0;34m(value, from_value)\u001b[0m\n",
      "File \u001b[0;32m~/anaconda3/envs/MachineLearning_37225214/lib/python3.8/site-packages/urllib3/connectionpool.py:444\u001b[0m, in \u001b[0;36mHTTPConnectionPool._make_request\u001b[0;34m(self, conn, method, url, timeout, chunked, **httplib_request_kw)\u001b[0m\n\u001b[1;32m    441\u001b[0m \u001b[38;5;28;01mexcept\u001b[39;00m \u001b[38;5;167;01mTypeError\u001b[39;00m:\n\u001b[1;32m    442\u001b[0m     \u001b[38;5;66;03m# Python 3\u001b[39;00m\n\u001b[1;32m    443\u001b[0m     \u001b[38;5;28;01mtry\u001b[39;00m:\n\u001b[0;32m--> 444\u001b[0m         httplib_response \u001b[38;5;241m=\u001b[39m \u001b[43mconn\u001b[49m\u001b[38;5;241;43m.\u001b[39;49m\u001b[43mgetresponse\u001b[49m\u001b[43m(\u001b[49m\u001b[43m)\u001b[49m\n\u001b[1;32m    445\u001b[0m     \u001b[38;5;28;01mexcept\u001b[39;00m \u001b[38;5;167;01mBaseException\u001b[39;00m \u001b[38;5;28;01mas\u001b[39;00m e:\n\u001b[1;32m    446\u001b[0m         \u001b[38;5;66;03m# Remove the TypeError from the exception chain in\u001b[39;00m\n\u001b[1;32m    447\u001b[0m         \u001b[38;5;66;03m# Python 3 (including for exceptions like SystemExit).\u001b[39;00m\n\u001b[1;32m    448\u001b[0m         \u001b[38;5;66;03m# Otherwise it looks like a bug in the code.\u001b[39;00m\n\u001b[1;32m    449\u001b[0m         six\u001b[38;5;241m.\u001b[39mraise_from(e, \u001b[38;5;28;01mNone\u001b[39;00m)\n",
      "File \u001b[0;32m~/anaconda3/envs/MachineLearning_37225214/lib/python3.8/http/client.py:1348\u001b[0m, in \u001b[0;36mHTTPConnection.getresponse\u001b[0;34m(self)\u001b[0m\n\u001b[1;32m   1346\u001b[0m \u001b[38;5;28;01mtry\u001b[39;00m:\n\u001b[1;32m   1347\u001b[0m     \u001b[38;5;28;01mtry\u001b[39;00m:\n\u001b[0;32m-> 1348\u001b[0m         \u001b[43mresponse\u001b[49m\u001b[38;5;241;43m.\u001b[39;49m\u001b[43mbegin\u001b[49m\u001b[43m(\u001b[49m\u001b[43m)\u001b[49m\n\u001b[1;32m   1349\u001b[0m     \u001b[38;5;28;01mexcept\u001b[39;00m \u001b[38;5;167;01mConnectionError\u001b[39;00m:\n\u001b[1;32m   1350\u001b[0m         \u001b[38;5;28mself\u001b[39m\u001b[38;5;241m.\u001b[39mclose()\n",
      "File \u001b[0;32m~/anaconda3/envs/MachineLearning_37225214/lib/python3.8/http/client.py:316\u001b[0m, in \u001b[0;36mHTTPResponse.begin\u001b[0;34m(self)\u001b[0m\n\u001b[1;32m    314\u001b[0m \u001b[38;5;66;03m# read until we get a non-100 response\u001b[39;00m\n\u001b[1;32m    315\u001b[0m \u001b[38;5;28;01mwhile\u001b[39;00m \u001b[38;5;28;01mTrue\u001b[39;00m:\n\u001b[0;32m--> 316\u001b[0m     version, status, reason \u001b[38;5;241m=\u001b[39m \u001b[38;5;28;43mself\u001b[39;49m\u001b[38;5;241;43m.\u001b[39;49m\u001b[43m_read_status\u001b[49m\u001b[43m(\u001b[49m\u001b[43m)\u001b[49m\n\u001b[1;32m    317\u001b[0m     \u001b[38;5;28;01mif\u001b[39;00m status \u001b[38;5;241m!=\u001b[39m CONTINUE:\n\u001b[1;32m    318\u001b[0m         \u001b[38;5;28;01mbreak\u001b[39;00m\n",
      "File \u001b[0;32m~/anaconda3/envs/MachineLearning_37225214/lib/python3.8/http/client.py:277\u001b[0m, in \u001b[0;36mHTTPResponse._read_status\u001b[0;34m(self)\u001b[0m\n\u001b[1;32m    276\u001b[0m \u001b[38;5;28;01mdef\u001b[39;00m \u001b[38;5;21m_read_status\u001b[39m(\u001b[38;5;28mself\u001b[39m):\n\u001b[0;32m--> 277\u001b[0m     line \u001b[38;5;241m=\u001b[39m \u001b[38;5;28mstr\u001b[39m(\u001b[38;5;28;43mself\u001b[39;49m\u001b[38;5;241;43m.\u001b[39;49m\u001b[43mfp\u001b[49m\u001b[38;5;241;43m.\u001b[39;49m\u001b[43mreadline\u001b[49m\u001b[43m(\u001b[49m\u001b[43m_MAXLINE\u001b[49m\u001b[43m \u001b[49m\u001b[38;5;241;43m+\u001b[39;49m\u001b[43m \u001b[49m\u001b[38;5;241;43m1\u001b[39;49m\u001b[43m)\u001b[49m, \u001b[38;5;124m\"\u001b[39m\u001b[38;5;124miso-8859-1\u001b[39m\u001b[38;5;124m\"\u001b[39m)\n\u001b[1;32m    278\u001b[0m     \u001b[38;5;28;01mif\u001b[39;00m \u001b[38;5;28mlen\u001b[39m(line) \u001b[38;5;241m>\u001b[39m _MAXLINE:\n\u001b[1;32m    279\u001b[0m         \u001b[38;5;28;01mraise\u001b[39;00m LineTooLong(\u001b[38;5;124m\"\u001b[39m\u001b[38;5;124mstatus line\u001b[39m\u001b[38;5;124m\"\u001b[39m)\n",
      "File \u001b[0;32m~/anaconda3/envs/MachineLearning_37225214/lib/python3.8/socket.py:669\u001b[0m, in \u001b[0;36mSocketIO.readinto\u001b[0;34m(self, b)\u001b[0m\n\u001b[1;32m    667\u001b[0m \u001b[38;5;28;01mwhile\u001b[39;00m \u001b[38;5;28;01mTrue\u001b[39;00m:\n\u001b[1;32m    668\u001b[0m     \u001b[38;5;28;01mtry\u001b[39;00m:\n\u001b[0;32m--> 669\u001b[0m         \u001b[38;5;28;01mreturn\u001b[39;00m \u001b[38;5;28;43mself\u001b[39;49m\u001b[38;5;241;43m.\u001b[39;49m\u001b[43m_sock\u001b[49m\u001b[38;5;241;43m.\u001b[39;49m\u001b[43mrecv_into\u001b[49m\u001b[43m(\u001b[49m\u001b[43mb\u001b[49m\u001b[43m)\u001b[49m\n\u001b[1;32m    670\u001b[0m     \u001b[38;5;28;01mexcept\u001b[39;00m timeout:\n\u001b[1;32m    671\u001b[0m         \u001b[38;5;28mself\u001b[39m\u001b[38;5;241m.\u001b[39m_timeout_occurred \u001b[38;5;241m=\u001b[39m \u001b[38;5;28;01mTrue\u001b[39;00m\n",
      "\u001b[0;31mKeyboardInterrupt\u001b[0m: "
     ]
    }
   ],
   "source": [
    "train_df = h2o.import_file(os.path.join(PROJECT_PATH, \"train.csv\"))\n",
    "y = 'Y'\n",
    "x = train_df.columns\n",
    "x.remove(y)\n",
    "train_df[y] = train_df[y].asfactor()\n",
    "\n",
    "h2o_automl = H2OAutoML(max_models=50, seed=42, stopping_metric=\"AUC\")\n",
    "h2o_automl.train(x=x, y=y, training_frame=train_df)"
   ]
  },
  {
   "cell_type": "code",
   "execution_count": null,
   "metadata": {},
   "outputs": [],
   "source": [
    "automl_2 = h2o_automl.get_best_model(criterion='auc')\n",
    "\n",
    "y_train_pred_h20 = automl_2.predict(X_train)"
   ]
  },
  {
   "cell_type": "code",
   "execution_count": null,
   "metadata": {},
   "outputs": [],
   "source": [
    "print(\"Training Accuracy score:\", round(accuracy_score(y_train, y_train_pred_h20), 3))\n",
    "print(\"Train set AUC score:\", round(roc_auc_score(y_train, automl_2.predict_proba(X_train)[:,1]), 3))"
   ]
  },
  {
   "cell_type": "code",
   "execution_count": null,
   "metadata": {},
   "outputs": [],
   "source": [
    "aml.leaderboard.head(10)"
   ]
  },
  {
   "cell_type": "markdown",
   "metadata": {},
   "source": [
    "### Stage A.2: AutoML with preprocessing"
   ]
  },
  {
   "cell_type": "code",
   "execution_count": null,
   "metadata": {},
   "outputs": [],
   "source": []
  },
  {
   "cell_type": "markdown",
   "metadata": {},
   "source": [
    "## Stage A.3: AutoML with hyperparameters (& Preprocessing if it helped)"
   ]
  },
  {
   "cell_type": "code",
   "execution_count": null,
   "metadata": {},
   "outputs": [],
   "source": [
    "# TODO: Add cross validation params\n",
    "\n",
    "# Use cross-validation with LOOCV or high kfolds? or low kfolds? not sure\n",
    "automl_1 = AutoSklearnClassifier(\n",
    "    seed=42, metric=\"roc_auc\",get_trials_callback=callback,\n",
    "    time_left_for_this_task=3600, per_run_time_limit=300,\n",
    "    resampling_strategy=\"holdout\",  \n",
    "    resampling_strategy_arguments={\"train_size\": 1.0, \"shuffle\": False},\n",
    "    preprocessor=[\"pca\", \"rfe\"]# ,\n",
    "#     pca__n_components=,  # 10 principal components\n",
    "#     rfe__n_features_to_select=20,  # 20 features selected by RFE\n",
    ")\n",
    "    \n",
    "automl_1.fit(X_train.to_numpy(np.float), y_train.to_numpy())\n",
    "\n",
    "y_train_pred = automl_1.predict(X_train)\n",
    "y_pred = automl_1.predict(X_test)"
   ]
  },
  {
   "cell_type": "markdown",
   "metadata": {},
   "source": [
    "## Stage A.2: AutoML with my preprocessing"
   ]
  },
  {
   "cell_type": "code",
   "execution_count": null,
   "metadata": {},
   "outputs": [],
   "source": [
    "from sklearn.tree import DecisionTreeClassifier\n",
    "from sklearn.ensemble import RandomForestClassifier\n",
    "from sklearn.model_selection import RepeatedKFold, cross_validate\n",
    "from sklearn.preprocessing import RobustScaler"
   ]
  },
  {
   "cell_type": "markdown",
   "metadata": {},
   "source": [
    "Check the distribution of the target parameter and check if the classes are balanced"
   ]
  },
  {
   "cell_type": "code",
   "execution_count": null,
   "metadata": {},
   "outputs": [],
   "source": [
    "y_train.hist(bins=3, )\n",
    "plt.title('y_train class distribution')\n",
    "plt.show()"
   ]
  },
  {
   "cell_type": "markdown",
   "metadata": {},
   "source": [
    "Verify the class are distributed similarly in the test/validation data as well"
   ]
  },
  {
   "cell_type": "code",
   "execution_count": null,
   "metadata": {},
   "outputs": [],
   "source": [
    "sample_y.plot(kind='box')\n",
    "plt.show()"
   ]
  },
  {
   "cell_type": "markdown",
   "metadata": {},
   "source": [
    "### Next we'll verify there are is no missing information in the data"
   ]
  },
  {
   "cell_type": "code",
   "execution_count": null,
   "metadata": {},
   "outputs": [],
   "source": [
    "na_cols = X_train.columns[X_train.isna().any()]\n",
    "na_rows = X_train.isna().any(axis=1)\n",
    "X_train.loc[na_rows, na_cols]"
   ]
  },
  {
   "cell_type": "code",
   "execution_count": null,
   "metadata": {},
   "outputs": [],
   "source": [
    "# Some missing data was found - \n",
    "# since we already have a relatively small amount of data, \n",
    "# it is preferable in this case to fill in the missing data \n",
    "# instead of dropping the entire row\n",
    "# NaN values will be replaced with the average value of the columns\n",
    "X_train = X_train.fillna(X_train.mean())\n",
    "X_train.loc[na_rows, na_cols]"
   ]
  },
  {
   "cell_type": "code",
   "execution_count": null,
   "metadata": {},
   "outputs": [],
   "source": [
    "# X_test is also filled in with the mean values from X_train\n",
    "na_cols = X_test.columns[X_test.isna().any()]\n",
    "na_rows = X_test.isna().any(axis=1)\n",
    "X_test.loc[na_rows, na_cols]\n",
    "\n",
    "X_test = X_test.fillna(X_train.mean())\n",
    "X_test.loc[na_rows, na_cols]"
   ]
  },
  {
   "cell_type": "markdown",
   "metadata": {},
   "source": [
    "### Scaling - verify all of the features are within the same scale values or scale"
   ]
  },
  {
   "cell_type": "code",
   "execution_count": null,
   "metadata": {},
   "outputs": [],
   "source": [
    "X_train_describe = X_train.describe()\n",
    "min_range_feature = (X_train_describe.loc['max'] - X_train_describe.loc['min']).idxmin()\n",
    "max_range_feature = (X_train_describe.loc['max'] - X_train_describe.loc['min']).idxmax()\n",
    "min_range_feature, max_range_feature"
   ]
  },
  {
   "cell_type": "code",
   "execution_count": null,
   "metadata": {},
   "outputs": [],
   "source": [
    "# Plot feature with max absolute values and \n",
    "X_train[[max_range_feature, min_range_feature]].plot(kind='box')\n",
    "plt.show()"
   ]
  },
  {
   "cell_type": "markdown",
   "metadata": {},
   "source": [
    "Training a model where some features can take values much larger than others can cause these features to take on more significance for the model, so some scaling is required in this instance to bring all features to the same scale or replace them with categorical features through binning"
   ]
  },
  {
   "cell_type": "code",
   "execution_count": null,
   "metadata": {},
   "outputs": [],
   "source": [
    "# scale data with robustScaler - this is a caler that is robust to larget outliers\n",
    "scaler = RobustScaler()\n",
    "X_train_scaled = scaler.fit_transform(X_train)\n",
    "X_test_scaled = scaler.transform(X_test)"
   ]
  },
  {
   "cell_type": "markdown",
   "metadata": {},
   "source": [
    "### TODO: \n",
    "1. When the number of features is much larger than the number of observations, it's usually better to use a regularization method to prevent overfitting (Ridge / Lasso / Elastic Net Regression)."
   ]
  },
  {
   "cell_type": "markdown",
   "metadata": {},
   "source": [
    "## Stage B: ML Model"
   ]
  },
  {
   "cell_type": "code",
   "execution_count": null,
   "metadata": {},
   "outputs": [],
   "source": [
    "# Models to try: Linear SVC / SVC, KNN, DecisionTree, Ensembles - RandomForest, XgBoost"
   ]
  }
 ],
 "metadata": {
  "kernelspec": {
   "display_name": "Python 3 (ipykernel)",
   "language": "python",
   "name": "python3"
  },
  "language_info": {
   "codemirror_mode": {
    "name": "ipython",
    "version": 3
   },
   "file_extension": ".py",
   "mimetype": "text/x-python",
   "name": "python",
   "nbconvert_exporter": "python",
   "pygments_lexer": "ipython3",
   "version": "3.8.16"
  }
 },
 "nbformat": 4,
 "nbformat_minor": 4
}
